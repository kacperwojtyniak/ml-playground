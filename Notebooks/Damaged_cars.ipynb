{
  "nbformat": 4,
  "nbformat_minor": 0,
  "metadata": {
    "colab": {
      "name": "Damaged_cars.ipynb",
      "provenance": [],
      "authorship_tag": "ABX9TyNCdRYp0C08n+wuaSNtmap+",
      "include_colab_link": true
    },
    "kernelspec": {
      "name": "python3",
      "display_name": "Python 3"
    },
    "accelerator": "GPU"
  },
  "cells": [
    {
      "cell_type": "markdown",
      "metadata": {
        "id": "view-in-github",
        "colab_type": "text"
      },
      "source": [
        "<a href=\"https://colab.research.google.com/github/kacperwojtyniak/ml-playground/blob/main/Notebooks/Damaged_cars.ipynb\" target=\"_parent\"><img src=\"https://colab.research.google.com/assets/colab-badge.svg\" alt=\"Open In Colab\"/></a>"
      ]
    },
    {
      "cell_type": "markdown",
      "metadata": {
        "id": "5e31jAuT_fV9"
      },
      "source": [
        "Setup"
      ]
    },
    {
      "cell_type": "code",
      "metadata": {
        "id": "Z3fhr2EuPQIi"
      },
      "source": [
        "#hide\r\n",
        "!pip install -Uqq fastbook\r\n",
        "import fastbook\r\n",
        "fastbook.setup_book()"
      ],
      "execution_count": null,
      "outputs": []
    },
    {
      "cell_type": "code",
      "metadata": {
        "id": "_z7uCpe9QXkJ"
      },
      "source": [
        "#hide\r\n",
        "from fastbook import *\r\n",
        "from fastai.vision.widgets import *"
      ],
      "execution_count": null,
      "outputs": []
    },
    {
      "cell_type": "markdown",
      "metadata": {
        "id": "k8a-7dWQ_j56"
      },
      "source": [
        "Set bing key"
      ]
    },
    {
      "cell_type": "code",
      "metadata": {
        "id": "ZODHeXK_Qpbw"
      },
      "source": [
        "key = os.environ.set('AZURE_SEARCH_KEY', '')"
      ],
      "execution_count": null,
      "outputs": []
    },
    {
      "cell_type": "markdown",
      "metadata": {
        "id": "QHXwZh6f_nRc"
      },
      "source": [
        "Specify search terms"
      ]
    },
    {
      "cell_type": "markdown",
      "metadata": {
        "id": "ymVIZlu3DDfQ"
      },
      "source": [
        "# Search for images"
      ]
    },
    {
      "cell_type": "code",
      "metadata": {
        "id": "gQznKDyLQ8Rh"
      },
      "source": [
        "search_terms = {'damaged':'car dent', 'undamaged':'Mid-Size Car'}\r\n",
        "path = Path('cars')"
      ],
      "execution_count": null,
      "outputs": []
    },
    {
      "cell_type": "markdown",
      "metadata": {
        "id": "4ZmsvEa-_pqJ"
      },
      "source": [
        "Download images"
      ]
    },
    {
      "cell_type": "code",
      "metadata": {
        "id": "9I0A_y8QSv-n"
      },
      "source": [
        "if not path.exists():\r\n",
        "  path.mkdir()\r\n",
        "  \r\n",
        "for k in search_terms:\r\n",
        "  search_term = search_terms[k]\r\n",
        "  dest = (path/k)\r\n",
        "  dest.mkdir(exist_ok=True)\r\n",
        "  results = search_images_bing(key, search_term) #max 150 images\r\n",
        "  download_images(dest, urls=results.attrgot('contentUrl'))"
      ],
      "execution_count": null,
      "outputs": []
    },
    {
      "cell_type": "markdown",
      "metadata": {
        "id": "0oWU9RymU2K6"
      },
      "source": [
        "Cleanup broken images"
      ]
    },
    {
      "cell_type": "code",
      "metadata": {
        "id": "AE1RCtWiVIp1"
      },
      "source": [
        "fns = get_image_files(path)\r\n",
        "failed = verify_images(fns)\r\n",
        "failed"
      ],
      "execution_count": null,
      "outputs": []
    },
    {
      "cell_type": "code",
      "metadata": {
        "id": "sO-esD7KVOQ5"
      },
      "source": [
        "failed.map(Path.unlink);"
      ],
      "execution_count": null,
      "outputs": []
    },
    {
      "cell_type": "markdown",
      "metadata": {
        "id": "8pIlvaiu_v__"
      },
      "source": [
        "Create datablock"
      ]
    },
    {
      "cell_type": "markdown",
      "metadata": {
        "id": "owLB1TuvDcUh"
      },
      "source": [
        "# Train"
      ]
    },
    {
      "cell_type": "code",
      "metadata": {
        "id": "H7eLawwfpMjL"
      },
      "source": [
        "# path = Path('gdrive/MyDrive/Colab Notebooks/datasets/cars')"
      ],
      "execution_count": null,
      "outputs": []
    },
    {
      "cell_type": "code",
      "metadata": {
        "id": "2xIBen3PWNH8"
      },
      "source": [
        "cars = DataBlock(\r\n",
        "    blocks=(ImageBlock, CategoryBlock), \r\n",
        "    get_items=get_image_files, \r\n",
        "    splitter=RandomSplitter(valid_pct=0.2, seed=35),\r\n",
        "    get_y=parent_label,\r\n",
        "    item_tfms=RandomResizedCrop(224, min_scale=0.4))\r\n",
        "dls = cars.dataloaders(path)\r\n",
        "dls.valid.show_batch(max_n=12, nrows=3)"
      ],
      "execution_count": null,
      "outputs": []
    },
    {
      "cell_type": "code",
      "metadata": {
        "id": "VIvORIxhYIB3"
      },
      "source": [
        "dls.train.show_batch(max_n=4, nrows=1, unique=True)"
      ],
      "execution_count": null,
      "outputs": []
    },
    {
      "cell_type": "code",
      "metadata": {
        "id": "vOl79FsNYbti"
      },
      "source": [
        "learn = cnn_learner(dls, resnet18, metrics=error_rate)\r\n",
        "learn.fine_tune(4)"
      ],
      "execution_count": null,
      "outputs": []
    },
    {
      "cell_type": "code",
      "metadata": {
        "id": "0aCneLwOZ2Zy"
      },
      "source": [
        "interp = ClassificationInterpretation.from_learner(learn)\r\n",
        "interp.plot_confusion_matrix()"
      ],
      "execution_count": null,
      "outputs": []
    },
    {
      "cell_type": "code",
      "metadata": {
        "id": "uAqKc9FEZ9ff"
      },
      "source": [
        "interp.plot_top_losses(5, nrows=1)"
      ],
      "execution_count": null,
      "outputs": []
    },
    {
      "cell_type": "code",
      "metadata": {
        "id": "vbbRfITJaIBN"
      },
      "source": [
        "cleaner = ImageClassifierCleaner(learn)\r\n",
        "cleaner"
      ],
      "execution_count": null,
      "outputs": []
    },
    {
      "cell_type": "code",
      "metadata": {
        "id": "NlJTUVG7aunr"
      },
      "source": [
        "for idx,cat in cleaner.change(): shutil.move(str(cleaner.fns[idx]), path/cat)"
      ],
      "execution_count": null,
      "outputs": []
    },
    {
      "cell_type": "code",
      "metadata": {
        "id": "6BQs_SgTRQJC"
      },
      "source": [
        "for idx in cleaner.delete(): cleaner.fns[idx].unlink()"
      ],
      "execution_count": null,
      "outputs": []
    },
    {
      "cell_type": "code",
      "metadata": {
        "id": "lV4w5JPhbGDU"
      },
      "source": [
        "learn.fine_tune(5)"
      ],
      "execution_count": null,
      "outputs": []
    },
    {
      "cell_type": "code",
      "metadata": {
        "id": "lJbqAgE3ba_4"
      },
      "source": [
        "learn.export()"
      ],
      "execution_count": null,
      "outputs": []
    },
    {
      "cell_type": "code",
      "metadata": {
        "id": "f63uXVUPbgaj"
      },
      "source": [
        "path = Path()\r\n",
        "learn_inf = load_learner(path/'export.pkl')"
      ],
      "execution_count": null,
      "outputs": []
    },
    {
      "cell_type": "code",
      "metadata": {
        "id": "k1E89xkndXfD"
      },
      "source": [
        "test_url = 'https://ireland.apollo.olxcdn.com/v1/files/eyJmbiI6ImgxbTl3YzNsZmVwZTItT1RPTU9UT1BMIiwidyI6W3siZm4iOiJ3ZzRnbnFwNnkxZi1PVE9NT1RPUEwiLCJzIjoiMTYiLCJwIjoiMTAsLTEwIiwiYSI6IjAifV19.z-yaN24dt7FTMzsA02dm9O_-oMYEMyg9jnXNI-O6jjM/image;s=1080x720'\r\n",
        "tst_dest = './tst.jpg'\r\n",
        "download_url(test_url, tst_dest)"
      ],
      "execution_count": null,
      "outputs": []
    },
    {
      "cell_type": "code",
      "metadata": {
        "id": "PKyQwGAabpUl"
      },
      "source": [
        "learn_inf.predict('./tst.jpg')"
      ],
      "execution_count": null,
      "outputs": []
    }
  ]
}